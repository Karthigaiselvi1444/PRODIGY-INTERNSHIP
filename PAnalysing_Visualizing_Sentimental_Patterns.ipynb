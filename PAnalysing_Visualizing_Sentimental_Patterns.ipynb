{
 "cells": [
  {
   "cell_type": "code",
   "execution_count": 1,
   "id": "8535fc35",
   "metadata": {},
   "outputs": [],
   "source": [
    "#Importing the required libraries:\n",
    "import pandas as pd\n",
    "import numpy as np\n",
    "import matplotlib.pyplot as plt\n",
    "from textblob import TextBlob"
   ]
  },
  {
   "cell_type": "code",
   "execution_count": 2,
   "id": "8dbc345d",
   "metadata": {},
   "outputs": [
    {
     "name": "stdout",
     "output_type": "stream",
     "text": [
      "   2401  Borderlands  Positive  \\\n",
      "0  2401  Borderlands  Positive   \n",
      "1  2401  Borderlands  Positive   \n",
      "2  2401  Borderlands  Positive   \n",
      "3  2401  Borderlands  Positive   \n",
      "4  2401  Borderlands  Positive   \n",
      "\n",
      "  im getting on borderlands and i will murder you all ,  \n",
      "0  I am coming to the borders and I will kill you...     \n",
      "1  im getting on borderlands and i will kill you ...     \n",
      "2  im coming on borderlands and i will murder you...     \n",
      "3  im getting on borderlands 2 and i will murder ...     \n",
      "4  im getting into borderlands and i can murder y...     \n"
     ]
    }
   ],
   "source": [
    "#Importing the dataset:\n",
    "Df=pd.read_csv(r\"D:\\PRODIGY INTERNSHIP\\twitter_training.csv\\twitter_training.csv\")\n",
    "print(Df.head())"
   ]
  },
  {
   "cell_type": "code",
   "execution_count": 3,
   "id": "cb07decc",
   "metadata": {},
   "outputs": [
    {
     "name": "stdout",
     "output_type": "stream",
     "text": [
      "     ID       Entity Sentiment  \\\n",
      "0  2401  Borderlands  Positive   \n",
      "1  2401  Borderlands  Positive   \n",
      "2  2401  Borderlands  Positive   \n",
      "3  2401  Borderlands  Positive   \n",
      "4  2401  Borderlands  Positive   \n",
      "\n",
      "                                             Content  \n",
      "0  im getting on borderlands and i will murder yo...  \n",
      "1  I am coming to the borders and I will kill you...  \n",
      "2  im getting on borderlands and i will kill you ...  \n",
      "3  im coming on borderlands and i will murder you...  \n",
      "4  im getting on borderlands 2 and i will murder ...  \n"
     ]
    }
   ],
   "source": [
    "#As there are no names for columns we give names:\n",
    "Col_names=['ID','Entity','Sentiment','Content']\n",
    "Df=pd.read_csv(r\"D:\\PRODIGY INTERNSHIP\\twitter_training.csv\\twitter_training.csv\",names=Col_names)\n",
    "print(Df.head())"
   ]
  },
  {
   "cell_type": "code",
   "execution_count": 4,
   "id": "988ca697",
   "metadata": {},
   "outputs": [
    {
     "name": "stdout",
     "output_type": "stream",
     "text": [
      "(74682, 4)\n"
     ]
    }
   ],
   "source": [
    "#No.of rows and columns:\n",
    "print(Df.shape)"
   ]
  },
  {
   "cell_type": "code",
   "execution_count": 5,
   "id": "19ed3683",
   "metadata": {},
   "outputs": [
    {
     "name": "stdout",
     "output_type": "stream",
     "text": [
      "<bound method NDFrame.describe of          ID       Entity Sentiment  \\\n",
      "0      2401  Borderlands  Positive   \n",
      "1      2401  Borderlands  Positive   \n",
      "2      2401  Borderlands  Positive   \n",
      "3      2401  Borderlands  Positive   \n",
      "4      2401  Borderlands  Positive   \n",
      "...     ...          ...       ...   \n",
      "74677  9200       Nvidia  Positive   \n",
      "74678  9200       Nvidia  Positive   \n",
      "74679  9200       Nvidia  Positive   \n",
      "74680  9200       Nvidia  Positive   \n",
      "74681  9200       Nvidia  Positive   \n",
      "\n",
      "                                                 Content  \n",
      "0      im getting on borderlands and i will murder yo...  \n",
      "1      I am coming to the borders and I will kill you...  \n",
      "2      im getting on borderlands and i will kill you ...  \n",
      "3      im coming on borderlands and i will murder you...  \n",
      "4      im getting on borderlands 2 and i will murder ...  \n",
      "...                                                  ...  \n",
      "74677  Just realized that the Windows partition of my...  \n",
      "74678  Just realized that my Mac window partition is ...  \n",
      "74679  Just realized the windows partition of my Mac ...  \n",
      "74680  Just realized between the windows partition of...  \n",
      "74681  Just like the windows partition of my Mac is l...  \n",
      "\n",
      "[74682 rows x 4 columns]>\n"
     ]
    }
   ],
   "source": [
    "#Statistical analysis:\n",
    "print(Df.describe)"
   ]
  },
  {
   "cell_type": "code",
   "execution_count": 6,
   "id": "d460e447",
   "metadata": {},
   "outputs": [
    {
     "name": "stdout",
     "output_type": "stream",
     "text": [
      "ID             0\n",
      "Entity         0\n",
      "Sentiment      0\n",
      "Content      686\n",
      "dtype: int64\n"
     ]
    }
   ],
   "source": [
    "#Checking whether there are null values:\n",
    "print(Df.isnull().sum())"
   ]
  },
  {
   "cell_type": "code",
   "execution_count": 7,
   "id": "e17c069d",
   "metadata": {},
   "outputs": [
    {
     "name": "stdout",
     "output_type": "stream",
     "text": [
      "ID           0\n",
      "Entity       0\n",
      "Sentiment    0\n",
      "Content      0\n",
      "dtype: int64\n"
     ]
    }
   ],
   "source": [
    "#Dropping the null values:\n",
    "Df.dropna(inplace=True)\n",
    "print(Df.isnull().sum())"
   ]
  },
  {
   "cell_type": "code",
   "execution_count": 8,
   "id": "c2f34929",
   "metadata": {},
   "outputs": [
    {
     "name": "stdout",
     "output_type": "stream",
     "text": [
      "(73996, 4)\n"
     ]
    }
   ],
   "source": [
    "#No.of rows and columns:\n",
    "#print(Df.shape)"
   ]
  },
  {
   "cell_type": "code",
   "execution_count": 9,
   "id": "e3051829",
   "metadata": {},
   "outputs": [
    {
     "name": "stdout",
     "output_type": "stream",
     "text": [
      "2340\n"
     ]
    }
   ],
   "source": [
    "#Checking whether there are duplicate values:\n",
    "print(Df.duplicated().sum())"
   ]
  },
  {
   "cell_type": "code",
   "execution_count": 10,
   "id": "4d4ca727",
   "metadata": {},
   "outputs": [
    {
     "name": "stdout",
     "output_type": "stream",
     "text": [
      "0\n",
      "(71656, 4)\n"
     ]
    }
   ],
   "source": [
    "#Dropping the duplicate values:\n",
    "Df.drop_duplicates(inplace=True)\n",
    "print(Df.duplicated().sum())\n",
    "print(Df.shape)"
   ]
  },
  {
   "cell_type": "code",
   "execution_count": 16,
   "id": "40b51632",
   "metadata": {},
   "outputs": [
    {
     "name": "stdout",
     "output_type": "stream",
     "text": [
      "Negative      21698\n",
      "Positive      19713\n",
      "Neutral       17708\n",
      "Irrelevant    12537\n",
      "Name: Sentiment, dtype: int64\n"
     ]
    }
   ],
   "source": [
    "Sentiment_Counts=Df['Sentiment'].value_counts()\n",
    "print(Sentiment_Counts)"
   ]
  },
  {
   "cell_type": "code",
   "execution_count": 17,
   "id": "5efbafe6",
   "metadata": {},
   "outputs": [
    {
     "data": {
      "image/png": "[encoded data removed]",
      "text/plain": [
       "<Figure size 576x576 with 1 Axes>"
      ]
     },
     "metadata": {
      "needs_background": "light"
     },
     "output_type": "display_data"
    }
   ],
   "source": [
    "plt.figure(figsize=(8,8))\n",
    "Sentiment_Counts.plot(kind='bar',color=['red','green','yellow','blue'])\n",
    "plt.title('Sentiment Distribution')\n",
    "plt.xlabel('Sentiment')\n",
    "plt.ylabel('Number of Tweets')\n",
    "plt.xticks(rotation=0)\n",
    "plt.show()"
   ]
  },
  {
   "cell_type": "code",
   "execution_count": 19,
   "id": "a9d0d96d",
   "metadata": {},
   "outputs": [
    {
     "data": {
      "text/plain": [
       "Neutral       816\n",
       "Negative      748\n",
       "Positive      573\n",
       "Irrelevant    167\n",
       "Name: Sentiment, dtype: int64"
      ]
     },
     "execution_count": 19,
     "metadata": {},
     "output_type": "execute_result"
    }
   ],
   "source": [
    "Brand_data=Df[Df['Entity'].str.contains('Microsoft',case=False)]\n",
    "Brand_sentiment_counts=Brand_data['Sentiment'].value_counts()\n",
    "Brand_sentiment_counts"
   ]
  },
  {
   "cell_type": "code",
   "execution_count": 22,
   "id": "16fc4c9a",
   "metadata": {},
   "outputs": [
    {
     "data": {
      "image/png": "[encoded data removed]",
      "text/plain": [
       "<Figure size 576x576 with 1 Axes>"
      ]
     },
     "metadata": {},
     "output_type": "display_data"
    }
   ],
   "source": [
    "plt.figure(figsize=(8,8))\n",
    "plt.pie(Brand_sentiment_counts,labels=Brand_sentiment_counts.index,autopct='%1.1f%%')\n",
    "plt.title('Sentiment Distribution for Microsoft')\n",
    "plt.show()"
   ]
  }
 ],
 "metadata": {
  "kernelspec": {
   "display_name": "Python 3 (ipykernel)",
   "language": "python",
   "name": "python3"
  },
  "language_info": {
   "codemirror_mode": {
    "name": "ipython",
    "version": 3
   },
   "file_extension": ".py",
   "mimetype": "text/x-python",
   "name": "python",
   "nbconvert_exporter": "python",
   "pygments_lexer": "ipython3",
   "version": "3.9.7"
  }
 },
 "nbformat": 4,
 "nbformat_minor": 5
}
